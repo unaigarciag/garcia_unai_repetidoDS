{
 "cells": [
  {
   "cell_type": "markdown",
   "id": "5613f5da",
   "metadata": {},
   "source": [
    "Escrapeando la siguiente web http://dreguera.github.io se pide lo siguiente:"
   ]
  },
  {
   "cell_type": "raw",
   "id": "ba2bbca9",
   "metadata": {},
   "source": [
    "1º Cargar el csv 'netflix_titles.csv' en un pandas.\n",
    "2º Una vez cargado el pandas, seleccionar los primeros x registros siendo x el número que teneis que escrapear en el primer apartado. Si el número que aparece en la web es por ejemplo 12, debería quedarme sólo con los primeros 12 registros.\n",
    "3º Mediante el uso de la similitud del coseno, para el título de la película escrepadas, seleccionar:\n",
    "    3.1) Las 5 películas mas similares\n",
    "    3.2) Las 5 películas menos similares"
   ]
  },
  {
   "cell_type": "code",
   "execution_count": 17,
   "id": "a9c6051f",
   "metadata": {},
   "outputs": [],
   "source": [
    "import pandas as pd\n",
    "from sklearn.metrics.pairwise import cosine_similarity\n",
    "from sklearn.feature_extraction.text import CountVectorizer\n",
    "import requests\n",
    "import codecs\n",
    "from lxml import html"
   ]
  },
  {
   "cell_type": "code",
   "execution_count": 25,
   "id": "4f4fadd4",
   "metadata": {},
   "outputs": [
    {
     "data": {
      "text/html": [
       "<div>\n",
       "<style scoped>\n",
       "    .dataframe tbody tr th:only-of-type {\n",
       "        vertical-align: middle;\n",
       "    }\n",
       "\n",
       "    .dataframe tbody tr th {\n",
       "        vertical-align: top;\n",
       "    }\n",
       "\n",
       "    .dataframe thead th {\n",
       "        text-align: right;\n",
       "    }\n",
       "</style>\n",
       "<table border=\"1\" class=\"dataframe\">\n",
       "  <thead>\n",
       "    <tr style=\"text-align: right;\">\n",
       "      <th></th>\n",
       "      <th>show_id</th>\n",
       "      <th>type</th>\n",
       "      <th>title</th>\n",
       "      <th>director</th>\n",
       "      <th>cast</th>\n",
       "      <th>country</th>\n",
       "      <th>date_added</th>\n",
       "      <th>release_year</th>\n",
       "      <th>rating</th>\n",
       "      <th>duration</th>\n",
       "      <th>listed_in</th>\n",
       "      <th>description</th>\n",
       "    </tr>\n",
       "  </thead>\n",
       "  <tbody>\n",
       "    <tr>\n",
       "      <th>0</th>\n",
       "      <td>s1</td>\n",
       "      <td>Movie</td>\n",
       "      <td>Dick Johnson Is Dead</td>\n",
       "      <td>Kirsten Johnson</td>\n",
       "      <td>NaN</td>\n",
       "      <td>United States</td>\n",
       "      <td>September 25, 2021</td>\n",
       "      <td>2020</td>\n",
       "      <td>PG-13</td>\n",
       "      <td>90 min</td>\n",
       "      <td>Documentaries</td>\n",
       "      <td>As her father nears the end of his life, filmm...</td>\n",
       "    </tr>\n",
       "    <tr>\n",
       "      <th>1</th>\n",
       "      <td>s2</td>\n",
       "      <td>TV Show</td>\n",
       "      <td>Blood &amp; Water</td>\n",
       "      <td>NaN</td>\n",
       "      <td>Ama Qamata, Khosi Ngema, Gail Mabalane, Thaban...</td>\n",
       "      <td>South Africa</td>\n",
       "      <td>September 24, 2021</td>\n",
       "      <td>2021</td>\n",
       "      <td>TV-MA</td>\n",
       "      <td>2 Seasons</td>\n",
       "      <td>International TV Shows, TV Dramas, TV Mysteries</td>\n",
       "      <td>After crossing paths at a party, a Cape Town t...</td>\n",
       "    </tr>\n",
       "    <tr>\n",
       "      <th>2</th>\n",
       "      <td>s3</td>\n",
       "      <td>TV Show</td>\n",
       "      <td>Ganglands</td>\n",
       "      <td>Julien Leclercq</td>\n",
       "      <td>Sami Bouajila, Tracy Gotoas, Samuel Jouy, Nabi...</td>\n",
       "      <td>NaN</td>\n",
       "      <td>September 24, 2021</td>\n",
       "      <td>2021</td>\n",
       "      <td>TV-MA</td>\n",
       "      <td>1 Season</td>\n",
       "      <td>Crime TV Shows, International TV Shows, TV Act...</td>\n",
       "      <td>To protect his family from a powerful drug lor...</td>\n",
       "    </tr>\n",
       "    <tr>\n",
       "      <th>3</th>\n",
       "      <td>s4</td>\n",
       "      <td>TV Show</td>\n",
       "      <td>Jailbirds New Orleans</td>\n",
       "      <td>NaN</td>\n",
       "      <td>NaN</td>\n",
       "      <td>NaN</td>\n",
       "      <td>September 24, 2021</td>\n",
       "      <td>2021</td>\n",
       "      <td>TV-MA</td>\n",
       "      <td>1 Season</td>\n",
       "      <td>Docuseries, Reality TV</td>\n",
       "      <td>Feuds, flirtations and toilet talk go down amo...</td>\n",
       "    </tr>\n",
       "    <tr>\n",
       "      <th>4</th>\n",
       "      <td>s5</td>\n",
       "      <td>TV Show</td>\n",
       "      <td>Kota Factory</td>\n",
       "      <td>NaN</td>\n",
       "      <td>Mayur More, Jitendra Kumar, Ranjan Raj, Alam K...</td>\n",
       "      <td>India</td>\n",
       "      <td>September 24, 2021</td>\n",
       "      <td>2021</td>\n",
       "      <td>TV-MA</td>\n",
       "      <td>2 Seasons</td>\n",
       "      <td>International TV Shows, Romantic TV Shows, TV ...</td>\n",
       "      <td>In a city of coaching centers known to train I...</td>\n",
       "    </tr>\n",
       "  </tbody>\n",
       "</table>\n",
       "</div>"
      ],
      "text/plain": [
       "  show_id     type                  title         director  \\\n",
       "0      s1    Movie   Dick Johnson Is Dead  Kirsten Johnson   \n",
       "1      s2  TV Show          Blood & Water              NaN   \n",
       "2      s3  TV Show              Ganglands  Julien Leclercq   \n",
       "3      s4  TV Show  Jailbirds New Orleans              NaN   \n",
       "4      s5  TV Show           Kota Factory              NaN   \n",
       "\n",
       "                                                cast        country  \\\n",
       "0                                                NaN  United States   \n",
       "1  Ama Qamata, Khosi Ngema, Gail Mabalane, Thaban...   South Africa   \n",
       "2  Sami Bouajila, Tracy Gotoas, Samuel Jouy, Nabi...            NaN   \n",
       "3                                                NaN            NaN   \n",
       "4  Mayur More, Jitendra Kumar, Ranjan Raj, Alam K...          India   \n",
       "\n",
       "           date_added  release_year rating   duration  \\\n",
       "0  September 25, 2021          2020  PG-13     90 min   \n",
       "1  September 24, 2021          2021  TV-MA  2 Seasons   \n",
       "2  September 24, 2021          2021  TV-MA   1 Season   \n",
       "3  September 24, 2021          2021  TV-MA   1 Season   \n",
       "4  September 24, 2021          2021  TV-MA  2 Seasons   \n",
       "\n",
       "                                           listed_in  \\\n",
       "0                                      Documentaries   \n",
       "1    International TV Shows, TV Dramas, TV Mysteries   \n",
       "2  Crime TV Shows, International TV Shows, TV Act...   \n",
       "3                             Docuseries, Reality TV   \n",
       "4  International TV Shows, Romantic TV Shows, TV ...   \n",
       "\n",
       "                                         description  \n",
       "0  As her father nears the end of his life, filmm...  \n",
       "1  After crossing paths at a party, a Cape Town t...  \n",
       "2  To protect his family from a powerful drug lor...  \n",
       "3  Feuds, flirtations and toilet talk go down amo...  \n",
       "4  In a city of coaching centers known to train I...  "
      ]
     },
     "execution_count": 25,
     "metadata": {},
     "output_type": "execute_result"
    }
   ],
   "source": [
    "df=pd.read_csv('netflix_titles.csv')\n",
    "df.head()"
   ]
  },
  {
   "cell_type": "code",
   "execution_count": 26,
   "id": "3dbe4fe9",
   "metadata": {},
   "outputs": [],
   "source": [
    "page = requests.get('https://dreguera.github.io/')\n",
    "tree = html.fromstring(page.content)"
   ]
  },
  {
   "cell_type": "code",
   "execution_count": 27,
   "id": "c7008de0",
   "metadata": {},
   "outputs": [
    {
     "data": {
      "text/plain": [
       "130"
      ]
     },
     "execution_count": 27,
     "metadata": {},
     "output_type": "execute_result"
    }
   ],
   "source": [
    "num=tree.xpath('//div[@id=\"limite\"]/*[@class=\"morado\"]/text()')\n",
    "num=num[0]\n",
    "num=int(num)\n",
    "num"
   ]
  },
  {
   "cell_type": "code",
   "execution_count": 28,
   "id": "9b0a1c2e",
   "metadata": {},
   "outputs": [
    {
     "data": {
      "text/plain": [
       "130"
      ]
     },
     "execution_count": 28,
     "metadata": {},
     "output_type": "execute_result"
    }
   ],
   "source": [
    "df=df.head(num)\n",
    "len(df)"
   ]
  },
  {
   "cell_type": "raw",
   "id": "5f809305",
   "metadata": {},
   "source": [
    "Nuestro sistema de recomendación va a basarse en los siguientes 3 campos:\n",
    "    - Director\n",
    "    - Cast\n",
    "    - listed_in\n",
    "    \n",
    "\n",
    "\n",
    "\n",
    "Primero deberíamos limpiar los valores NaN, ésto lo podemos realizar con la siguiente función de Python\n",
    "\n",
    "    df[['director', 'cast', 'listed_in']] = df[['director', 'cast', 'listed_in']].fillna('')\n",
    "\n",
    "\n",
    "Ahora debemos construir una nueva columna con la concatenación de esas tres columnas (director, cast y listed_in)\n",
    "\n",
    "df[nueva_col] = df[a] + ' ' + df[b] + ' ' + df[c]\n",
    "\n",
    "La siguiente función nos puede ayudar:\n",
    "\n",
    "def combined_features(row):\n",
    "    return str(row['feature1'])+\" \"+str(row['feature2'])+\" \"+str(row['feature3'])\n",
    "    \n",
    "dfMovies[\"combined_features\"] = dfMovies.apply(combined_features, axis =1)"
   ]
  },
  {
   "cell_type": "code",
   "execution_count": 29,
   "id": "8608c3e3",
   "metadata": {},
   "outputs": [],
   "source": [
    "df[['director', 'cast', 'listed_in']] = df[['director', 'cast', 'listed_in']].fillna('')"
   ]
  },
  {
   "cell_type": "code",
   "execution_count": 33,
   "id": "44e140ad",
   "metadata": {},
   "outputs": [
    {
     "data": {
      "text/plain": [
       "show_id               0\n",
       "type                  0\n",
       "title                 0\n",
       "director              0\n",
       "cast                  0\n",
       "country              50\n",
       "date_added            0\n",
       "release_year          0\n",
       "rating                0\n",
       "duration              0\n",
       "listed_in             0\n",
       "description           0\n",
       "combined_features     0\n",
       "dtype: int64"
      ]
     },
     "execution_count": 33,
     "metadata": {},
     "output_type": "execute_result"
    }
   ],
   "source": [
    "df.isna().sum()"
   ]
  },
  {
   "cell_type": "code",
   "execution_count": 30,
   "id": "a0732df2",
   "metadata": {},
   "outputs": [],
   "source": [
    "def combined_features(row):\n",
    "    return str(row['director'])+\" \"+str(row['cast'])+\" \"+str(row['listed_in'])\n",
    "    \n",
    "df[\"combined_features\"] = df.apply(combined_features, axis =1)"
   ]
  },
  {
   "cell_type": "code",
   "execution_count": 31,
   "id": "82ddd52c",
   "metadata": {},
   "outputs": [
    {
     "data": {
      "text/plain": [
       "0                         Kirsten Johnson  Documentaries\n",
       "1       Ama Qamata, Khosi Ngema, Gail Mabalane, Thaba...\n",
       "2      Julien Leclercq Sami Bouajila, Tracy Gotoas, S...\n",
       "3                                 Docuseries, Reality TV\n",
       "4       Mayur More, Jitendra Kumar, Ranjan Raj, Alam ...\n",
       "                             ...                        \n",
       "125     Sean Hayes, Wanda Sykes, Laurie Metcalf, Davi...\n",
       "126    Vidhu Vinod Chopra Aadil Khan, Sadia Khateeb, ...\n",
       "127    Mark Rosman Hilary Duff, Chad Michael Murray, ...\n",
       "128    Gilles Paquet-Brenner Glenn Close, Terence Sta...\n",
       "129    Lasse Hallström Robert Redford, Jennifer Lopez...\n",
       "Name: combined_features, Length: 130, dtype: object"
      ]
     },
     "execution_count": 31,
     "metadata": {},
     "output_type": "execute_result"
    }
   ],
   "source": [
    "df[\"combined_features\"]"
   ]
  },
  {
   "cell_type": "raw",
   "id": "e5f8c63b",
   "metadata": {},
   "source": [
    "Para crear la matriz de similitud podemos realizarlo de la siguiente manera:\n",
    "    vectorizer = CountVectorizer().fit_transform(df[\"combined_features\"].values)\n",
    "    vectors = vectorizer.toarray()\n",
    "    csim = cosine_similarity(vectors)"
   ]
  },
  {
   "cell_type": "code",
   "execution_count": 34,
   "id": "b370a2e2",
   "metadata": {},
   "outputs": [
    {
     "data": {
      "text/plain": [
       "array([[1.        , 0.        , 0.        , ..., 0.        , 0.        ,\n",
       "        0.12038585],\n",
       "       [0.        , 1.        , 0.26490647, ..., 0.        , 0.05237828,\n",
       "        0.02837522],\n",
       "       [0.        , 0.26490647, 1.        , ..., 0.        , 0.03121953,\n",
       "        0.        ],\n",
       "       ...,\n",
       "       [0.        , 0.        , 0.        , ..., 1.        , 0.03121953,\n",
       "        0.0338255 ],\n",
       "       [0.        , 0.05237828, 0.03121953, ..., 0.03121953, 1.        ,\n",
       "        0.04012862],\n",
       "       [0.12038585, 0.02837522, 0.        , ..., 0.0338255 , 0.04012862,\n",
       "        1.        ]])"
      ]
     },
     "execution_count": 34,
     "metadata": {},
     "output_type": "execute_result"
    }
   ],
   "source": [
    "vectorizer = CountVectorizer().fit_transform(df[\"combined_features\"].values)\n",
    "vectors = vectorizer.toarray()\n",
    "csim = cosine_similarity(vectors)\n",
    "csim    "
   ]
  },
  {
   "cell_type": "markdown",
   "id": "ab7088f4",
   "metadata": {},
   "source": [
    "### Funciones a tener en cuenta:"
   ]
  },
  {
   "cell_type": "code",
   "execution_count": 76,
   "id": "a2bf3d27",
   "metadata": {},
   "outputs": [
    {
     "data": {
      "text/plain": [
       "'Omo Ghetto: the Saga'"
      ]
     },
     "execution_count": 76,
     "metadata": {},
     "output_type": "execute_result"
    }
   ],
   "source": [
    "titulo=tree.xpath('//div[@id=\"titulo\"]/*[@class=\"morado\"]/text()')\n",
    "titulo=titulo[0]\n",
    "titulo"
   ]
  },
  {
   "cell_type": "code",
   "execution_count": 77,
   "id": "cb31e363",
   "metadata": {},
   "outputs": [],
   "source": [
    "#Esta función nos devuelve el índice de la fila cuando le pasamos un título\n",
    "\n",
    "def get_index_from_title(title):\n",
    "    return df[df.title == title].index.values[0]\n",
    "    \n"
   ]
  },
  {
   "cell_type": "code",
   "execution_count": 78,
   "id": "a3181847",
   "metadata": {},
   "outputs": [],
   "source": [
    "indice=get_index_from_title(titulo)"
   ]
  },
  {
   "cell_type": "code",
   "execution_count": 79,
   "id": "67573097",
   "metadata": {},
   "outputs": [
    {
     "data": {
      "text/plain": [
       "84"
      ]
     },
     "execution_count": 79,
     "metadata": {},
     "output_type": "execute_result"
    }
   ],
   "source": [
    "indice"
   ]
  },
  {
   "cell_type": "code",
   "execution_count": 80,
   "id": "496f07f0",
   "metadata": {},
   "outputs": [],
   "source": [
    "#Esta función nos devuelve un título cuando le pasamos el indice de la fila\n",
    "\n",
    "def get_title_from_index(index):\n",
    "    return df[df.index == index][\"title\"].values[0]"
   ]
  },
  {
   "cell_type": "code",
   "execution_count": 81,
   "id": "0e199a16",
   "metadata": {},
   "outputs": [
    {
     "data": {
      "text/plain": [
       "'Omo Ghetto: the Saga'"
      ]
     },
     "execution_count": 81,
     "metadata": {},
     "output_type": "execute_result"
    }
   ],
   "source": [
    "get_title_from_index(indice)"
   ]
  },
  {
   "cell_type": "raw",
   "id": "37495fce",
   "metadata": {},
   "source": [
    "Para crear las películas similares, por ejemplo de la película cuyo índex es 4, lo realizaríamos así\n",
    "similar_movies = list(enumerate(csim[4])) \n",
    "\n",
    "Para ordenar las películas de mayor a menor similitud lo realizaríamos así, siendo el parámetro reverse el que determina la manera de ordenar (True: descendente, False: ascendente)\n",
    "sorted_similar_movies = sorted(similar_movies, key=lambda x:x[1], reverse=True)\n"
   ]
  },
  {
   "cell_type": "code",
   "execution_count": 82,
   "id": "42a9063a",
   "metadata": {},
   "outputs": [
    {
     "data": {
      "text/plain": [
       "[(0, 0.0),\n",
       " (1, 0.023338001400466827),\n",
       " (2, 0.05564148840746572),\n",
       " (3, 0.0),\n",
       " (4, 0.029411764705882346),\n",
       " (5, 0.049507377148833714),\n",
       " (6, 0.03241018617760821),\n",
       " (7, 0.03575992699260758),\n",
       " (8, 0.0),\n",
       " (9, 0.06726727939963124),\n",
       " (10, 0.0),\n",
       " (11, 0.041292006950766694),\n",
       " (12, 0.03300491809922247),\n",
       " (13, 0.03363363969981562),\n",
       " (14, 0.0),\n",
       " (15, 0.0700140042014005),\n",
       " (16, 0.0),\n",
       " (17, 0.02615328904829707),\n",
       " (18, 0.0),\n",
       " (19, 0.05882352941176469),\n",
       " (20, 0.0),\n",
       " (21, 0.08458258116519013),\n",
       " (22, 0.047565149415449405),\n",
       " (23, 0.0),\n",
       " (24, 0.044280744277004756),\n",
       " (25, 0.0),\n",
       " (26, 0.042874646285627205),\n",
       " (27, 0.03363363969981562),\n",
       " (28, 0.0),\n",
       " (29, 0.0),\n",
       " (30, 0.03131121455425747),\n",
       " (31, 0.03363363969981562),\n",
       " (32, 0.03080205518168487),\n",
       " (33, 0.023782574707724703),\n",
       " (34, 0.0),\n",
       " (35, 0.03363363969981562),\n",
       " (36, 0.09723055853282464),\n",
       " (37, 0.042874646285627205),\n",
       " (38, 0.09901475429766741),\n",
       " (39, 0.0),\n",
       " (40, 0.0),\n",
       " (41, 0.09901475429766741),\n",
       " (42, 0.03300491809922247),\n",
       " (43, 0.06600983619844494),\n",
       " (44, 0.10502100630210075),\n",
       " (45, 0.0),\n",
       " (46, 0.0700140042014005),\n",
       " (47, 0.026783579200279007),\n",
       " (48, 0.03363363969981562),\n",
       " (49, 0.17149858514250882),\n",
       " (50, 0.029411764705882346),\n",
       " (51, 0.06482037235521643),\n",
       " (52, 0.0700140042014005),\n",
       " (53, 0.06600983619844494),\n",
       " (54, 0.06482037235521643),\n",
       " (55, 0.0),\n",
       " (56, 0.06262242910851494),\n",
       " (57, 0.06262242910851494),\n",
       " (58, 0.05882352941176469),\n",
       " (59, 0.046676002800933654),\n",
       " (60, 0.057166195047502935),\n",
       " (61, 0.06482037235521643),\n",
       " (62, 0.06482037235521643),\n",
       " (63, 0.06482037235521643),\n",
       " (64, 0.0),\n",
       " (65, 0.0),\n",
       " (66, 0.0),\n",
       " (67, 0.03742405942825598),\n",
       " (68, 0.08084520834544433),\n",
       " (69, 0.06482037235521643),\n",
       " (70, 0.0),\n",
       " (71, 0.03363363969981562),\n",
       " (72, 0.041594516540385144),\n",
       " (73, 0.03575992699260758),\n",
       " (74, 0.0),\n",
       " (75, 0.0),\n",
       " (76, 0.0),\n",
       " (77, 0.03500700210070025),\n",
       " (78, 0.10341753799900383),\n",
       " (79, 0.10341753799900383),\n",
       " (80, 0.0),\n",
       " (81, 0.07868894753646336),\n",
       " (82, 0.08035073760083702),\n",
       " (83, 0.0),\n",
       " (84, 1.0),\n",
       " (85, 0.0),\n",
       " (86, 0.0),\n",
       " (87, 0.0),\n",
       " (88, 0.0),\n",
       " (89, 0.0),\n",
       " (90, 0.0),\n",
       " (91, 0.0),\n",
       " (92, 0.028194193721730043),\n",
       " (93, 0.030316953129541614),\n",
       " (94, 0.031846487764924096),\n",
       " (95, 0.0),\n",
       " (96, 0.0),\n",
       " (97, 0.031846487764924096),\n",
       " (98, 0.0),\n",
       " (99, 0.07312724241271305),\n",
       " (100, 0.03834824944236852),\n",
       " (101, 0.0),\n",
       " (102, 0.0),\n",
       " (103, 0.08346223261119858),\n",
       " (104, 0.0),\n",
       " (105, 0.12320822072673948),\n",
       " (106, 0.03834824944236852),\n",
       " (107, 0.03363363969981562),\n",
       " (108, 0.03131121455425747),\n",
       " (109, 0.0),\n",
       " (110, 0.0),\n",
       " (111, 0.0),\n",
       " (112, 0.07669649888473704),\n",
       " (113, 0.03575992699260758),\n",
       " (114, 0.03500700210070025),\n",
       " (115, 0.03300491809922247),\n",
       " (116, 0.07312724241271305),\n",
       " (117, 0.0),\n",
       " (118, 0.040422604172722164),\n",
       " (119, 0.03834824944236852),\n",
       " (120, 0.04583492485141056),\n",
       " (121, 0.020498001542269693),\n",
       " (122, 0.0),\n",
       " (123, 0.0),\n",
       " (124, 0.0),\n",
       " (125, 0.09723055853282464),\n",
       " (126, 0.029411764705882346),\n",
       " (127, 0.05564148840746572),\n",
       " (128, 0.03300491809922247),\n",
       " (129, 0.03575992699260758)]"
      ]
     },
     "execution_count": 82,
     "metadata": {},
     "output_type": "execute_result"
    }
   ],
   "source": [
    "similar_movies = list(enumerate(csim[indice])) \n",
    "similar_movies"
   ]
  },
  {
   "cell_type": "code",
   "execution_count": 83,
   "id": "e6f22376",
   "metadata": {},
   "outputs": [
    {
     "data": {
      "text/plain": [
       "[(84, 1.0),\n",
       " (49, 0.17149858514250882),\n",
       " (105, 0.12320822072673948),\n",
       " (44, 0.10502100630210075),\n",
       " (78, 0.10341753799900383),\n",
       " (79, 0.10341753799900383),\n",
       " (38, 0.09901475429766741),\n",
       " (41, 0.09901475429766741),\n",
       " (36, 0.09723055853282464),\n",
       " (125, 0.09723055853282464),\n",
       " (21, 0.08458258116519013),\n",
       " (103, 0.08346223261119858),\n",
       " (68, 0.08084520834544433),\n",
       " (82, 0.08035073760083702),\n",
       " (81, 0.07868894753646336),\n",
       " (112, 0.07669649888473704),\n",
       " (99, 0.07312724241271305),\n",
       " (116, 0.07312724241271305),\n",
       " (15, 0.0700140042014005),\n",
       " (46, 0.0700140042014005),\n",
       " (52, 0.0700140042014005),\n",
       " (9, 0.06726727939963124),\n",
       " (43, 0.06600983619844494),\n",
       " (53, 0.06600983619844494),\n",
       " (51, 0.06482037235521643),\n",
       " (54, 0.06482037235521643),\n",
       " (61, 0.06482037235521643),\n",
       " (62, 0.06482037235521643),\n",
       " (63, 0.06482037235521643),\n",
       " (69, 0.06482037235521643),\n",
       " (56, 0.06262242910851494),\n",
       " (57, 0.06262242910851494),\n",
       " (19, 0.05882352941176469),\n",
       " (58, 0.05882352941176469),\n",
       " (60, 0.057166195047502935),\n",
       " (2, 0.05564148840746572),\n",
       " (127, 0.05564148840746572),\n",
       " (5, 0.049507377148833714),\n",
       " (22, 0.047565149415449405),\n",
       " (59, 0.046676002800933654),\n",
       " (120, 0.04583492485141056),\n",
       " (24, 0.044280744277004756),\n",
       " (26, 0.042874646285627205),\n",
       " (37, 0.042874646285627205),\n",
       " (72, 0.041594516540385144),\n",
       " (11, 0.041292006950766694),\n",
       " (118, 0.040422604172722164),\n",
       " (100, 0.03834824944236852),\n",
       " (106, 0.03834824944236852),\n",
       " (119, 0.03834824944236852),\n",
       " (67, 0.03742405942825598),\n",
       " (7, 0.03575992699260758),\n",
       " (73, 0.03575992699260758),\n",
       " (113, 0.03575992699260758),\n",
       " (129, 0.03575992699260758),\n",
       " (77, 0.03500700210070025),\n",
       " (114, 0.03500700210070025),\n",
       " (13, 0.03363363969981562),\n",
       " (27, 0.03363363969981562),\n",
       " (31, 0.03363363969981562),\n",
       " (35, 0.03363363969981562),\n",
       " (48, 0.03363363969981562),\n",
       " (71, 0.03363363969981562),\n",
       " (107, 0.03363363969981562),\n",
       " (12, 0.03300491809922247),\n",
       " (42, 0.03300491809922247),\n",
       " (115, 0.03300491809922247),\n",
       " (128, 0.03300491809922247),\n",
       " (6, 0.03241018617760821),\n",
       " (94, 0.031846487764924096),\n",
       " (97, 0.031846487764924096),\n",
       " (30, 0.03131121455425747),\n",
       " (108, 0.03131121455425747),\n",
       " (32, 0.03080205518168487),\n",
       " (93, 0.030316953129541614),\n",
       " (4, 0.029411764705882346),\n",
       " (50, 0.029411764705882346),\n",
       " (126, 0.029411764705882346),\n",
       " (92, 0.028194193721730043),\n",
       " (47, 0.026783579200279007),\n",
       " (17, 0.02615328904829707),\n",
       " (33, 0.023782574707724703),\n",
       " (1, 0.023338001400466827),\n",
       " (121, 0.020498001542269693),\n",
       " (0, 0.0),\n",
       " (3, 0.0),\n",
       " (8, 0.0),\n",
       " (10, 0.0),\n",
       " (14, 0.0),\n",
       " (16, 0.0),\n",
       " (18, 0.0),\n",
       " (20, 0.0),\n",
       " (23, 0.0),\n",
       " (25, 0.0),\n",
       " (28, 0.0),\n",
       " (29, 0.0),\n",
       " (34, 0.0),\n",
       " (39, 0.0),\n",
       " (40, 0.0),\n",
       " (45, 0.0),\n",
       " (55, 0.0),\n",
       " (64, 0.0),\n",
       " (65, 0.0),\n",
       " (66, 0.0),\n",
       " (70, 0.0),\n",
       " (74, 0.0),\n",
       " (75, 0.0),\n",
       " (76, 0.0),\n",
       " (80, 0.0),\n",
       " (83, 0.0),\n",
       " (85, 0.0),\n",
       " (86, 0.0),\n",
       " (87, 0.0),\n",
       " (88, 0.0),\n",
       " (89, 0.0),\n",
       " (90, 0.0),\n",
       " (91, 0.0),\n",
       " (95, 0.0),\n",
       " (96, 0.0),\n",
       " (98, 0.0),\n",
       " (101, 0.0),\n",
       " (102, 0.0),\n",
       " (104, 0.0),\n",
       " (109, 0.0),\n",
       " (110, 0.0),\n",
       " (111, 0.0),\n",
       " (117, 0.0),\n",
       " (122, 0.0),\n",
       " (123, 0.0),\n",
       " (124, 0.0)]"
      ]
     },
     "execution_count": 83,
     "metadata": {},
     "output_type": "execute_result"
    }
   ],
   "source": [
    "sorted_similar_movies = sorted(similar_movies, key=lambda x:x[1], reverse=True)\n",
    "sorted_similar_movies"
   ]
  },
  {
   "cell_type": "code",
   "execution_count": 84,
   "id": "9c2cb644",
   "metadata": {},
   "outputs": [
    {
     "name": "stdout",
     "output_type": "stream",
     "text": [
      "similar:  Castle and Castle\n",
      "similar:  Angamaly Diaries\n",
      "similar:  Jaws: The Revenge\n",
      "similar:  Tughlaq Durbar\n",
      "similar:  Tughlaq Durbar (Telugu)\n",
      "no similar:  Sharkdog\n",
      "no similar:  Final Account\n",
      "no similar:  In the Cut\n",
      "no similar:  Luv Kushh\n",
      "no similar:  Pororo - The Little Penguin\n"
     ]
    }
   ],
   "source": [
    "contador=0\n",
    "for title in sorted_similar_movies:\n",
    "    if title[1]!=1:\n",
    "        contador+=1\n",
    "        if contador<6:\n",
    "            print('similar: ',get_title_from_index(title[0]))\n",
    "        elif contador>len(sorted_similar_movies)-6:\n",
    "            print('no similar: ',get_title_from_index(title[0]))\n",
    "            \n",
    "            "
   ]
  },
  {
   "cell_type": "code",
   "execution_count": null,
   "id": "df01dd9d",
   "metadata": {},
   "outputs": [],
   "source": []
  },
  {
   "cell_type": "code",
   "execution_count": null,
   "id": "ba83009f",
   "metadata": {},
   "outputs": [],
   "source": []
  }
 ],
 "metadata": {
  "kernelspec": {
   "display_name": "Python 3 (ipykernel)",
   "language": "python",
   "name": "python3"
  },
  "language_info": {
   "codemirror_mode": {
    "name": "ipython",
    "version": 3
   },
   "file_extension": ".py",
   "mimetype": "text/x-python",
   "name": "python",
   "nbconvert_exporter": "python",
   "pygments_lexer": "ipython3",
   "version": "3.8.10"
  }
 },
 "nbformat": 4,
 "nbformat_minor": 5
}
